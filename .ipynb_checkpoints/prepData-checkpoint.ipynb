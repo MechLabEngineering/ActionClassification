{
 "cells": [
  {
   "cell_type": "code",
   "execution_count": 1,
   "metadata": {
    "collapsed": true
   },
   "outputs": [],
   "source": [
    "import pandas as pd\n",
    "import os"
   ]
  },
  {
   "cell_type": "markdown",
   "metadata": {
    "collapsed": true
   },
   "source": [
    "# Prepare the logfiles to learn with the raw data\n",
    "\n",
    "the `.log` files were recorded with an old version of the great [SensorLog App for iOS](https://itunes.apple.com/us/app/sensorlog/id388014573?mt=8). Thanks Bernd Thomas!"
   ]
  },
  {
   "cell_type": "code",
   "execution_count": 2,
   "metadata": {
    "collapsed": false
   },
   "outputs": [
    {
     "data": {
      "text/html": [
       "<div>\n",
       "<table border=\"1\" class=\"dataframe\">\n",
       "  <thead>\n",
       "    <tr style=\"text-align: right;\">\n",
       "      <th></th>\n",
       "      <th>time</th>\n",
       "      <th>timestamp</th>\n",
       "      <th>recordtime</th>\n",
       "      <th>lat</th>\n",
       "      <th>long</th>\n",
       "      <th>alt</th>\n",
       "      <th>speed</th>\n",
       "      <th>course</th>\n",
       "      <th>verticalAccuracy</th>\n",
       "      <th>horizontalAccuracy</th>\n",
       "      <th>...</th>\n",
       "      <th>motionYaw</th>\n",
       "      <th>motionRoll</th>\n",
       "      <th>motionPitch</th>\n",
       "      <th>motionRotationRateX</th>\n",
       "      <th>motionRotationRateY</th>\n",
       "      <th>motionRotationRateZ</th>\n",
       "      <th>motionUserAccelerationX</th>\n",
       "      <th>motionUserAccelerationY</th>\n",
       "      <th>motionUserAccelerationZ</th>\n",
       "      <th>Event</th>\n",
       "    </tr>\n",
       "  </thead>\n",
       "  <tbody>\n",
       "    <tr>\n",
       "      <th>0</th>\n",
       "      <td>2013-09-19 16:22:03.980</td>\n",
       "      <td>1</td>\n",
       "      <td>0.02</td>\n",
       "      <td>51.0387</td>\n",
       "      <td>13.79404</td>\n",
       "      <td>103</td>\n",
       "      <td>0</td>\n",
       "      <td>-1</td>\n",
       "      <td>6</td>\n",
       "      <td>5</td>\n",
       "      <td>...</td>\n",
       "      <td>0.031451</td>\n",
       "      <td>-0.021808</td>\n",
       "      <td>0.313466</td>\n",
       "      <td>0.067842</td>\n",
       "      <td>0.103881</td>\n",
       "      <td>-0.003539</td>\n",
       "      <td>0.002189</td>\n",
       "      <td>-0.010734</td>\n",
       "      <td>-0.116644</td>\n",
       "      <td>0</td>\n",
       "    </tr>\n",
       "    <tr>\n",
       "      <th>1</th>\n",
       "      <td>2013-09-19 16:22:04.007</td>\n",
       "      <td>2</td>\n",
       "      <td>0.04</td>\n",
       "      <td>51.0387</td>\n",
       "      <td>13.79404</td>\n",
       "      <td>103</td>\n",
       "      <td>0</td>\n",
       "      <td>-1</td>\n",
       "      <td>6</td>\n",
       "      <td>5</td>\n",
       "      <td>...</td>\n",
       "      <td>0.031362</td>\n",
       "      <td>-0.022052</td>\n",
       "      <td>0.315300</td>\n",
       "      <td>0.146673</td>\n",
       "      <td>-0.059045</td>\n",
       "      <td>-0.002977</td>\n",
       "      <td>0.010496</td>\n",
       "      <td>0.014829</td>\n",
       "      <td>-0.100751</td>\n",
       "      <td>0</td>\n",
       "    </tr>\n",
       "    <tr>\n",
       "      <th>2</th>\n",
       "      <td>2013-09-19 16:22:04.037</td>\n",
       "      <td>3</td>\n",
       "      <td>0.06</td>\n",
       "      <td>51.0387</td>\n",
       "      <td>13.79404</td>\n",
       "      <td>103</td>\n",
       "      <td>0</td>\n",
       "      <td>-1</td>\n",
       "      <td>6</td>\n",
       "      <td>5</td>\n",
       "      <td>...</td>\n",
       "      <td>0.031362</td>\n",
       "      <td>-0.022052</td>\n",
       "      <td>0.315300</td>\n",
       "      <td>0.146673</td>\n",
       "      <td>-0.059045</td>\n",
       "      <td>-0.002977</td>\n",
       "      <td>0.010496</td>\n",
       "      <td>0.014829</td>\n",
       "      <td>-0.100751</td>\n",
       "      <td>0</td>\n",
       "    </tr>\n",
       "    <tr>\n",
       "      <th>3</th>\n",
       "      <td>2013-09-19 16:22:04.052</td>\n",
       "      <td>4</td>\n",
       "      <td>0.08</td>\n",
       "      <td>51.0387</td>\n",
       "      <td>13.79404</td>\n",
       "      <td>103</td>\n",
       "      <td>0</td>\n",
       "      <td>-1</td>\n",
       "      <td>6</td>\n",
       "      <td>5</td>\n",
       "      <td>...</td>\n",
       "      <td>0.037472</td>\n",
       "      <td>-0.021246</td>\n",
       "      <td>0.334888</td>\n",
       "      <td>0.364734</td>\n",
       "      <td>-0.021244</td>\n",
       "      <td>0.082543</td>\n",
       "      <td>0.022124</td>\n",
       "      <td>-0.035640</td>\n",
       "      <td>0.043157</td>\n",
       "      <td>0</td>\n",
       "    </tr>\n",
       "    <tr>\n",
       "      <th>4</th>\n",
       "      <td>2013-09-19 16:22:04.080</td>\n",
       "      <td>5</td>\n",
       "      <td>0.10</td>\n",
       "      <td>51.0387</td>\n",
       "      <td>13.79404</td>\n",
       "      <td>103</td>\n",
       "      <td>0</td>\n",
       "      <td>-1</td>\n",
       "      <td>6</td>\n",
       "      <td>5</td>\n",
       "      <td>...</td>\n",
       "      <td>0.039552</td>\n",
       "      <td>-0.021763</td>\n",
       "      <td>0.339581</td>\n",
       "      <td>0.336809</td>\n",
       "      <td>0.074761</td>\n",
       "      <td>0.171036</td>\n",
       "      <td>0.044764</td>\n",
       "      <td>-0.046638</td>\n",
       "      <td>0.036314</td>\n",
       "      <td>0</td>\n",
       "    </tr>\n",
       "  </tbody>\n",
       "</table>\n",
       "<p>5 rows × 33 columns</p>\n",
       "</div>"
      ],
      "text/plain": [
       "                      time  timestamp  recordtime      lat      long  alt  \\\n",
       "0  2013-09-19 16:22:03.980          1        0.02  51.0387  13.79404  103   \n",
       "1  2013-09-19 16:22:04.007          2        0.04  51.0387  13.79404  103   \n",
       "2  2013-09-19 16:22:04.037          3        0.06  51.0387  13.79404  103   \n",
       "3  2013-09-19 16:22:04.052          4        0.08  51.0387  13.79404  103   \n",
       "4  2013-09-19 16:22:04.080          5        0.10  51.0387  13.79404  103   \n",
       "\n",
       "   speed  course  verticalAccuracy  horizontalAccuracy  ...    motionYaw  \\\n",
       "0      0      -1                 6                   5  ...     0.031451   \n",
       "1      0      -1                 6                   5  ...     0.031362   \n",
       "2      0      -1                 6                   5  ...     0.031362   \n",
       "3      0      -1                 6                   5  ...     0.037472   \n",
       "4      0      -1                 6                   5  ...     0.039552   \n",
       "\n",
       "   motionRoll  motionPitch  motionRotationRateX  motionRotationRateY  \\\n",
       "0   -0.021808     0.313466             0.067842             0.103881   \n",
       "1   -0.022052     0.315300             0.146673            -0.059045   \n",
       "2   -0.022052     0.315300             0.146673            -0.059045   \n",
       "3   -0.021246     0.334888             0.364734            -0.021244   \n",
       "4   -0.021763     0.339581             0.336809             0.074761   \n",
       "\n",
       "   motionRotationRateZ  motionUserAccelerationX  motionUserAccelerationY  \\\n",
       "0            -0.003539                 0.002189                -0.010734   \n",
       "1            -0.002977                 0.010496                 0.014829   \n",
       "2            -0.002977                 0.010496                 0.014829   \n",
       "3             0.082543                 0.022124                -0.035640   \n",
       "4             0.171036                 0.044764                -0.046638   \n",
       "\n",
       "   motionUserAccelerationZ  Event  \n",
       "0                -0.116644      0  \n",
       "1                -0.100751      0  \n",
       "2                -0.100751      0  \n",
       "3                 0.043157      0  \n",
       "4                 0.036314      0  \n",
       "\n",
       "[5 rows x 33 columns]"
      ]
     },
     "execution_count": 2,
     "metadata": {},
     "output_type": "execute_result"
    }
   ],
   "source": [
    "csvs = [files for files in os.listdir('./') if files.endswith('.log')]\n",
    "\n",
    "pd.read_csv(csvs[1]).head(5)"
   ]
  },
  {
   "cell_type": "markdown",
   "metadata": {
    "collapsed": false
   },
   "source": [
    "## Dump activities in one file with labels\n",
    "\n",
    "just a snipped of the whole data"
   ]
  },
  {
   "cell_type": "code",
   "execution_count": 3,
   "metadata": {
    "collapsed": false
   },
   "outputs": [],
   "source": [
    "von = 6.0\n",
    "bis = 14.0"
   ]
  },
  {
   "cell_type": "code",
   "execution_count": 4,
   "metadata": {
    "collapsed": false
   },
   "outputs": [
    {
     "name": "stdout",
     "output_type": "stream",
     "text": [
      "Lade 00_walking_Laufen_mit_Telefon_in_der_Hand.log\n",
      "Lade 01_cycling_Radfahren_mit_Telefon_in_der_Hosentasche.log\n",
      "Lade 02_running_Joggen_mit_Telefon_in_der_Hose.log\n",
      "Lade 03_standing_Sitzen_mit_Telefon_in_der_Hand.log\n"
     ]
    }
   ],
   "source": [
    "values = ['accelerationX','accelerationY','accelerationZ','motionRotationRateX','motionRotationRateY', 'motionRotationRateZ']\n",
    "\n",
    "# Write Header in CSV\n",
    "with open('activitydata.csv', 'wb') as f:\n",
    "    f.write(\"timestamp,\" + \",\".join(values) + ',activity\\n')\n",
    "\n",
    "# Open all Activity csvs and get data\n",
    "for csv in csvs:\n",
    "    print('Lade %s' % csv)\n",
    "    data = pd.read_csv(csv, index_col='recordtime')\n",
    "    data = data[(data.index<=bis) & (data.index>=von)] # equal time ranges\n",
    "    \n",
    "    data.index = data.time\n",
    "    data = data[values] # just keep relevant values\n",
    "\n",
    "    data['activity'] = csv.split('_')[1] # label data\n",
    "    \n",
    "    with open('activitydata.csv', 'a') as f:\n",
    "        data.to_csv(f, header=False, float_format='%.6f')"
   ]
  },
  {
   "cell_type": "code",
   "execution_count": null,
   "metadata": {
    "collapsed": true
   },
   "outputs": [],
   "source": []
  }
 ],
 "metadata": {
  "kernelspec": {
   "display_name": "Python 2",
   "language": "python",
   "name": "python2"
  },
  "language_info": {
   "codemirror_mode": {
    "name": "ipython",
    "version": 2
   },
   "file_extension": ".py",
   "mimetype": "text/x-python",
   "name": "python",
   "nbconvert_exporter": "python",
   "pygments_lexer": "ipython2",
   "version": "2.7.11"
  }
 },
 "nbformat": 4,
 "nbformat_minor": 0
}
