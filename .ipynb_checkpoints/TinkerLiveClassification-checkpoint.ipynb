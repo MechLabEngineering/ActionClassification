{
 "cells": [
  {
   "cell_type": "markdown",
   "metadata": {},
   "source": [
    "# Real Time Activity Classification\n",
    "\n",
    "We'll use a [Tinkerforge IMU](http://www.tinkerforge.com/en/doc/Hardware/Bricks/IMU_Brick.html)\n",
    "\n",
    "![IMU](http://www.tinkerforge.com/en/doc/_images/Bricks/brick_imu_tilted_front_350.jpg)\n",
    "\n",
    "### Connection settings"
   ]
  },
  {
   "cell_type": "code",
   "execution_count": 31,
   "metadata": {
    "collapsed": true
   },
   "outputs": [],
   "source": [
    "HOST = \"localhost\"\n",
    "PORT = 4223\n",
    "UID = \"6QFQ21\" # Change to your UID"
   ]
  },
  {
   "cell_type": "code",
   "execution_count": 32,
   "metadata": {
    "collapsed": true
   },
   "outputs": [],
   "source": [
    "from tinkerforge.ip_connection import IPConnection\n",
    "from tinkerforge.brick_imu import IMU"
   ]
  },
  {
   "cell_type": "markdown",
   "metadata": {},
   "source": [
    "### Load the Classifier"
   ]
  },
  {
   "cell_type": "code",
   "execution_count": 33,
   "metadata": {
    "collapsed": false
   },
   "outputs": [
    {
     "name": "stdout",
     "output_type": "stream",
     "text": [
      "Classifier loaded.\n"
     ]
    }
   ],
   "source": [
    "import pickle\n",
    "with open('SVClassifier.pkl', 'rb') as fid:\n",
    "    classifier = pickle.load(fid)\n",
    "\n",
    "print('Classifier loaded.')"
   ]
  },
  {
   "cell_type": "code",
   "execution_count": 34,
   "metadata": {
    "collapsed": true
   },
   "outputs": [],
   "source": [
    "import numpy as np"
   ]
  },
  {
   "cell_type": "markdown",
   "metadata": {
    "collapsed": false
   },
   "source": [
    "## Feature Calculation"
   ]
  },
  {
   "cell_type": "code",
   "execution_count": 35,
   "metadata": {
    "collapsed": true
   },
   "outputs": [],
   "source": [
    "def fft_amplitude_peak(s):\n",
    "    \n",
    "    # don't forget the windowing to get rid of the leakage effect\n",
    "    hann = np.hanning(len(s))\n",
    "    \n",
    "    # do the FFT with Hanning Window\n",
    "    Yhann = np.fft.fft(hann*s)\n",
    "    \n",
    "    N = len(Yhann)/2+1\n",
    "    Y = 2.0*np.abs(Yhann[:N])/N # right half is enough info\n",
    "    \n",
    "    return np.max(Y) # just return the maximum peak amplitude\n",
    "    #return Y # return the full spectrum\n",
    "    #return np.max(Y) / np.mean(Y) # return periodicity"
   ]
  },
  {
   "cell_type": "code",
   "execution_count": 36,
   "metadata": {
    "collapsed": true
   },
   "outputs": [],
   "source": [
    "def accmaxmindiff(ax,ay,az):\n",
    "    absacc = np.sqrt(ax**2 + ay**2 + az**2)\n",
    "    return np.max(absacc)-np.min(absacc)"
   ]
  },
  {
   "cell_type": "code",
   "execution_count": 37,
   "metadata": {
    "collapsed": true
   },
   "outputs": [],
   "source": [
    "def classify(sensordata):\n",
    "    #print signal\n",
    "    ax = np.array(sensordata)[...,0]\n",
    "    ay = np.array(sensordata)[...,1]\n",
    "    az = np.array(sensordata)[...,2]\n",
    "    rollrate = np.array(sensordata)[...,3]\n",
    "    pitchrate = np.array(sensordata)[...,4]\n",
    "    yawrate = np.array(sensordata)[...,5]\n",
    "    \n",
    "    acc = accmaxmindiff(ax,ay,az)\n",
    "    fft = fft_amplitude_peak(yawrate)\n",
    "\n",
    "    activity = classifier.predict([acc, fft])\n",
    "\n",
    "    print('%s' % (activity))"
   ]
  },
  {
   "cell_type": "code",
   "execution_count": 38,
   "metadata": {
    "collapsed": false
   },
   "outputs": [],
   "source": [
    "def collect(ax, ay, az, rollrate, pitchrate, yawrate, temp, signals=[]):\n",
    "    \n",
    "    signals.append([ax, ay, az, rollrate, pitchrate, yawrate, temp])\n",
    "    \n",
    "    #print len(signals)\n",
    "    ws = 1.0 # windowsize in seconds\n",
    "    sp = 10.0 # sample period of sensor in milliseconds (see Callback of Tinkerforge IMU)\n",
    "    \n",
    "    if len(signals)>(ws/(sp/1000)):\n",
    "        classify(signals) # send everything to classifier\n",
    "        \n",
    "        del signals[:] # clear signal vector"
   ]
  },
  {
   "cell_type": "code",
   "execution_count": null,
   "metadata": {
    "collapsed": false
   },
   "outputs": [],
   "source": []
  },
  {
   "cell_type": "code",
   "execution_count": 39,
   "metadata": {
    "collapsed": true
   },
   "outputs": [],
   "source": [
    "def cb_imudynamic(acc_x, acc_y, acc_z, mag_x, mag_y, mag_z, ang_x, ang_y, ang_z, temp):\n",
    "    '''\n",
    "    Gibt die kalibrierten Beschleunigungen des Beschleunigungsmessers für die X, Y und Z-Achse in mG zurück (G/1000, 1G = 9.80605m/s²).\n",
    "    '''\n",
    "    ax = acc_x/1000.0\n",
    "    ay = acc_y/1000.0\n",
    "    az = acc_z/1000.0\n",
    "\n",
    "    '''\n",
    "    Gibt die kalibrierten Winkelgeschwindigkeiten des Gyroskops für die X, Y und Z-Achse in °/14,375s zurück. (Um den Wert in °/s zu erhalten ist es notwendig durch 14,375 zu teilen)\n",
    "    '''\n",
    "    rollrate = ang_x/14.375*3.14/180.0\n",
    "    pitchrate= ang_y/14.375*3.14/180.0\n",
    "    yawrate =  ang_z/14.375*3.14/180.0\n",
    "\n",
    "    temp = temp/100.0\n",
    "    \n",
    "    \n",
    "    collect(ax, ay, az, rollrate, pitchrate, yawrate, temp)"
   ]
  },
  {
   "cell_type": "code",
   "execution_count": null,
   "metadata": {
    "collapsed": true
   },
   "outputs": [],
   "source": []
  },
  {
   "cell_type": "code",
   "execution_count": 40,
   "metadata": {
    "collapsed": false
   },
   "outputs": [
    {
     "name": "stdout",
     "output_type": "stream",
     "text": [
      "IMU connected\n",
      "Press key to exit\n",
      "\n",
      "0.0318, 0.0149:\t['Sitzen']\n",
      "0.0400, 0.0144:\t['Sitzen']\n",
      "0.0278, 0.0154:\t['Sitzen']\n",
      "0.0322, 0.0154:\t['Sitzen']\n"
     ]
    }
   ],
   "source": [
    "if __name__ == \"__main__\":\n",
    "    \n",
    "    ipcon = IPConnection() # Create IP connection\n",
    "    imu = IMU(UID, ipcon) # Create device object\n",
    "\n",
    "    ipcon.connect(HOST, PORT) # Connect to brickd\n",
    "    # Don't use device before ipcon is connected\n",
    "    print('IMU connected')\n",
    "    \n",
    "    # Register callback\n",
    "    imu.set_all_data_period(10) #10ms\n",
    "    imu.register_callback(imu.CALLBACK_ALL_DATA, cb_imudynamic)\n",
    "\n",
    "    raw_input('Press key to exit\\n') # Use input() in Python 3\n",
    "    ipcon.disconnect()"
   ]
  },
  {
   "cell_type": "code",
   "execution_count": null,
   "metadata": {
    "collapsed": false
   },
   "outputs": [],
   "source": []
  },
  {
   "cell_type": "code",
   "execution_count": null,
   "metadata": {
    "collapsed": true
   },
   "outputs": [],
   "source": []
  }
 ],
 "metadata": {
  "kernelspec": {
   "display_name": "Python 2",
   "language": "python",
   "name": "python2"
  },
  "language_info": {
   "codemirror_mode": {
    "name": "ipython",
    "version": 2
   },
   "file_extension": ".py",
   "mimetype": "text/x-python",
   "name": "python",
   "nbconvert_exporter": "python",
   "pygments_lexer": "ipython2",
   "version": "2.7.10"
  }
 },
 "nbformat": 4,
 "nbformat_minor": 0
}
